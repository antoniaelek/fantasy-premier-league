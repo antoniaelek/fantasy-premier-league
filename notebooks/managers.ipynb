{
 "cells": [
  {
   "cell_type": "code",
   "execution_count": null,
   "metadata": {},
   "outputs": [],
   "source": [
    "from urllib import response\n",
    "import requests , json, csv\n",
    "import pandas as pd\n",
    "import os"
   ]
  }
 ],
 "metadata": {
  "kernelspec": {
   "display_name": "Python 3.9.7 ('env': venv)",
   "language": "python",
   "name": "python3"
  },
  "language_info": {
   "name": "python",
   "version": "3.9.7"
  },
  "orig_nbformat": 4,
  "vscode": {
   "interpreter": {
    "hash": "7d2989a2af3327a8256c633218c6b17c9ad9213af2c5e6244adfacc8967fe6e5"
   }
  }
 },
 "nbformat": 4,
 "nbformat_minor": 2
}
